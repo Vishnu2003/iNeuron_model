{
  "cells": [
    {
      "cell_type": "code",
      "execution_count": null,
      "metadata": {
        "id": "5teyGfomdx4q"
      },
      "outputs": [],
      "source": [
        "from google.colab import drive\n",
        "drive.mount('/content/drive')"
      ]
    },
    {
      "cell_type": "code",
      "execution_count": null,
      "metadata": {
        "id": "Z29HgSgfJtoe"
      },
      "outputs": [],
      "source": [
        "import csv\n",
        "import pandas as pd \n",
        "import nltk\n",
        "import random\n",
        "import string\n",
        "import warnings\n",
        "import numpy as np\n",
        "import re\n",
        "import dask.dataframe as dd\n",
        "from sklearn.feature_extraction.text import TfidfVectorizer\n",
        "from sklearn.metrics.pairwise import cosine_similarity\n",
        "warnings.filterwarnings('ignore')"
      ]
    },
    {
      "cell_type": "code",
      "execution_count": null,
      "metadata": {
        "id": "Vi34UcsETAKE"
      },
      "outputs": [],
      "source": [
        "nltk.download('punkt')\n",
        "nltk.download('wordnet')\n",
        "nltk.download('omw-1.4')"
      ]
    },
    {
      "cell_type": "code",
      "execution_count": null,
      "metadata": {
        "id": "Al8TCXn8Jtol"
      },
      "outputs": [],
      "source": [
        "data = pd.read_csv('/content/drive/MyDrive/Colab Notebooks/content.csv', error_bad_lines=False)"
      ]
    },
    {
      "cell_type": "code",
      "source": [
        "data = data.head(400)"
      ],
      "metadata": {
        "id": "V1jNeI5m3wWS"
      },
      "execution_count": null,
      "outputs": []
    },
    {
      "cell_type": "code",
      "execution_count": null,
      "metadata": {
        "id": "UPyX5aqxJtoo"
      },
      "outputs": [],
      "source": [
        "sent_tokens = data['content'].apply(nltk.sent_tokenize)"
      ]
    },
    {
      "cell_type": "code",
      "execution_count": null,
      "metadata": {
        "id": "leJzGR2Ue-fs"
      },
      "outputs": [],
      "source": [
        "def flat(lis):\n",
        "\n",
        "    flatList = []\n",
        "\n",
        "    # Iterate with outer list\n",
        "\n",
        "    for element in lis:\n",
        "\n",
        "        if type(element) is list:\n",
        "\n",
        "            # Check if type is list than iterate through the sublist\n",
        "\n",
        "            for item in element:\n",
        "\n",
        "                flatList.append(item)\n",
        "\n",
        "        else:\n",
        "\n",
        "            flatList.append(element)\n",
        "\n",
        "    return flatList"
      ]
    },
    {
      "cell_type": "code",
      "execution_count": null,
      "metadata": {
        "id": "Hq_inSfxfd-H"
      },
      "outputs": [],
      "source": [
        "snt_tkn = flat(sent_tokens)"
      ]
    },
    {
      "cell_type": "code",
      "source": [
        "snt_tkn = sorted(snt_tkn)"
      ],
      "metadata": {
        "id": "4z5BShDVN27b"
      },
      "execution_count": null,
      "outputs": []
    },
    {
      "cell_type": "code",
      "source": [
        "print(len(snt_tkn))"
      ],
      "metadata": {
        "id": "clF-CPg1N8gM"
      },
      "execution_count": null,
      "outputs": []
    },
    {
      "cell_type": "code",
      "source": [
        "lemmer = nltk.stem.WordNetLemmatizer()\n",
        "\n",
        "def LemTokens(tokens):\n",
        "    return [lemmer.lemmatize(token) for token in tokens]\n",
        "remove_punct_dict = dict((ord(punct), None) for punct in string.punctuation)\n",
        "\n",
        "def LemNormalize(text):\n",
        "    return LemTokens(nltk.word_tokenize(text.lower().translate(remove_punct_dict)))"
      ],
      "metadata": {
        "id": "R0OOVSmLMyiU"
      },
      "execution_count": null,
      "outputs": []
    },
    {
      "cell_type": "code",
      "source": [
        "GREETING_INPUTS = (\"hello\", \"hi\", \"greetings\", \"sup\", \"what's up\", \"hey\")\n",
        "GREETING_RESPONSES = [\"hi\", \"hey\", \"nods\", \"hi there\", \"hello\", \"I am glad! you are talking to me\"]\n",
        "\n",
        "def greeting(scentence):\n",
        "    \n",
        "    for word in scentence.split():\n",
        "        if word.lower() in GREETING_INPUTS:\n",
        "            return random.choice(GREETING_RESPONSES)"
      ],
      "metadata": {
        "id": "2U7xz6ffM0_7"
      },
      "execution_count": null,
      "outputs": []
    },
    {
      "cell_type": "code",
      "source": [
        "def bin_search(L, target):\n",
        "    start = 0\n",
        "    end = len(L) - 1\n",
        "    while start <= end:\n",
        "        middle = (start + end)// 2\n",
        "        midpoint = L[middle]\n",
        "        if midpoint > target:\n",
        "            end = middle - 1\n",
        "        elif midpoint < target:\n",
        "            start = middle + 1\n",
        "        else:\n",
        "            return midpoint"
      ],
      "metadata": {
        "id": "sLD5YA8wVG-I"
      },
      "execution_count": null,
      "outputs": []
    },
    {
      "cell_type": "code",
      "source": [
        "def response(user_response):\n",
        "    chatbot_response = ''\n",
        "    data.loc[len(data.index)] = [user_response]\n",
        "    # snt_tkn.append(user_response)\n",
        "    TfidfVec = TfidfVectorizer(tokenizer=LemNormalize, stop_words=\"english\")\n",
        "    tfidf = TfidfVec.fit_transform(data['content'])\n",
        "    # tfidf = TfidfVec.fit_transform(snt_tkn)\n",
        "    vals = cosine_similarity(tfidf[-1], tfidf)\n",
        "    idx = vals.argsort()[0][-2]\n",
        "    flat = vals.flatten()\n",
        "    flat.sort()\n",
        "    req_tfidf = flat[-2]\n",
        "    if(req_tfidf == 0):\n",
        "        chatbot_response = chatbot_response + \"I am sorry! I don't understand you\"\n",
        "        return chatbot_response\n",
        "    \n",
        "    else:\n",
        "        chatbot_response=chatbot_response+data['content'][idx]\n",
        "        return chatbot_response"
      ],
      "metadata": {
        "id": "P6WCspC-M7OD"
      },
      "execution_count": null,
      "outputs": []
    },
    {
      "cell_type": "code",
      "source": [
        "if __name__ == \"__main__\":\n",
        "    flag = True\n",
        "    print(\"Hello, there my name is Aneka. I will answer your queries. If you want to exit, type Bye!\")\n",
        "    while(flag==True):\n",
        "        user_response = input('You: ')\n",
        "        user_response = user_response.lower()\n",
        "        if(user_response!='bye'):\n",
        "            if user_response == 'thanks' or user_response == 'thank you':\n",
        "                flag = False\n",
        "                print(\"Bot: You're welcome!\")\n",
        "            else:\n",
        "                if(greeting(user_response)!=None):\n",
        "                    print(\"Bot:\" +greeting(user_response))\n",
        "                else:\n",
        "                    print(\"Bot:\", end='')\n",
        "                    print(response(user_response))\n",
        "                    # snt_tkn.remove(user_response)\n",
        "                    data = data[:-1]\n",
        "                    \n",
        "        else:\n",
        "            flag = False\n",
        "            print(\"Bot: Bye! Have a great time!\" )"
      ],
      "metadata": {
        "id": "1uH07yxdM8hi"
      },
      "execution_count": null,
      "outputs": []
    }
  ],
  "metadata": {
    "colab": {
      "collapsed_sections": [],
      "name": "model2.ipynb",
      "provenance": []
    },
    "kernelspec": {
      "display_name": "Python 3.10.5 64-bit",
      "language": "python",
      "name": "python3"
    },
    "language_info": {
      "codemirror_mode": {
        "name": "ipython",
        "version": 3
      },
      "file_extension": ".py",
      "mimetype": "text/x-python",
      "name": "python",
      "nbconvert_exporter": "python",
      "pygments_lexer": "ipython3",
      "version": "3.10.5"
    },
    "vscode": {
      "interpreter": {
        "hash": "67506b106730bf0982c7d2096c8958ab28c71a249c4881ffcdc31e75eee2e243"
      }
    }
  },
  "nbformat": 4,
  "nbformat_minor": 0
}